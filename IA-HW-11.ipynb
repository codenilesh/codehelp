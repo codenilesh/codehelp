{
 "cells": [
  {
   "cell_type": "markdown",
   "metadata": {
    "collapsed": true
   },
   "source": [
    "##                               Homework 11: ISYE6501\n",
    "##                               Author: Nilesh Domadia\n",
    "##                                      Date: 11/3/2020"
   ]
  },
  {
   "cell_type": "markdown",
   "metadata": {},
   "source": [
    "Question 15.2\n",
    "\n",
    "In the videos, we saw the “diet problem”. (The diet problem is one of the first large-scale optimization\n",
    "problems to be studied in practice. Back in the 1930’s and 40’s, the Army wanted to meet the nutritional\n",
    "requirements of its soldiers while minimizing the cost.) In this homework you get to solve a diet problem with real data. The data is given in the file diet.xls. \n"
   ]
  },
  {
   "cell_type": "markdown",
   "metadata": {},
   "source": [
    "1.\tFormulate an optimization model (a linear program) to find the cheapest diet that satisfies the maximum and minimum daily nutrition constraints, and solve it using PuLP.  Turn in your code and the solution. (The optimal solution should be a diet of air-popped popcorn, poached eggs, oranges, raw iceberg lettuce, raw celery, and frozen broccoli. UGH!)"
   ]
  },
  {
   "cell_type": "code",
   "execution_count": 58,
   "metadata": {
    "collapsed": true
   },
   "outputs": [],
   "source": [
    "# ---------- Import modules -----------"
   ]
  },
  {
   "cell_type": "code",
   "execution_count": 59,
   "metadata": {
    "collapsed": true
   },
   "outputs": [],
   "source": [
    "from pulp import *\n",
    "import pandas as pd\n",
    "import numpy as np"
   ]
  },
  {
   "cell_type": "code",
   "execution_count": 60,
   "metadata": {
    "collapsed": true
   },
   "outputs": [],
   "source": [
    "# ------------ Read data into the dataframe ---------------"
   ]
  },
  {
   "cell_type": "code",
   "execution_count": 61,
   "metadata": {},
   "outputs": [
    {
     "data": {
      "text/html": [
       "<div>\n",
       "<style>\n",
       "    .dataframe thead tr:only-child th {\n",
       "        text-align: right;\n",
       "    }\n",
       "\n",
       "    .dataframe thead th {\n",
       "        text-align: left;\n",
       "    }\n",
       "\n",
       "    .dataframe tbody tr th {\n",
       "        vertical-align: top;\n",
       "    }\n",
       "</style>\n",
       "<table border=\"1\" class=\"dataframe\">\n",
       "  <thead>\n",
       "    <tr style=\"text-align: right;\">\n",
       "      <th></th>\n",
       "      <th>Foods</th>\n",
       "      <th>Price/ Serving</th>\n",
       "      <th>Serving Size</th>\n",
       "      <th>Calories</th>\n",
       "      <th>Cholesterol mg</th>\n",
       "      <th>Total_Fat g</th>\n",
       "      <th>Sodium mg</th>\n",
       "      <th>Carbohydrates g</th>\n",
       "      <th>Dietary_Fiber g</th>\n",
       "      <th>Protein g</th>\n",
       "      <th>Vit_A IU</th>\n",
       "      <th>Vit_C IU</th>\n",
       "      <th>Calcium mg</th>\n",
       "      <th>Iron mg</th>\n",
       "    </tr>\n",
       "  </thead>\n",
       "  <tbody>\n",
       "    <tr>\n",
       "      <th>0</th>\n",
       "      <td>Frozen Broccoli</td>\n",
       "      <td>0.16</td>\n",
       "      <td>10 Oz Pkg</td>\n",
       "      <td>73.8</td>\n",
       "      <td>0.0</td>\n",
       "      <td>0.8</td>\n",
       "      <td>68.2</td>\n",
       "      <td>13.6</td>\n",
       "      <td>8.5</td>\n",
       "      <td>8.0</td>\n",
       "      <td>5867.4</td>\n",
       "      <td>160.2</td>\n",
       "      <td>159.0</td>\n",
       "      <td>2.3</td>\n",
       "    </tr>\n",
       "    <tr>\n",
       "      <th>1</th>\n",
       "      <td>Carrots,Raw</td>\n",
       "      <td>0.07</td>\n",
       "      <td>1/2 Cup Shredded</td>\n",
       "      <td>23.7</td>\n",
       "      <td>0.0</td>\n",
       "      <td>0.1</td>\n",
       "      <td>19.2</td>\n",
       "      <td>5.6</td>\n",
       "      <td>1.6</td>\n",
       "      <td>0.6</td>\n",
       "      <td>15471.0</td>\n",
       "      <td>5.1</td>\n",
       "      <td>14.9</td>\n",
       "      <td>0.3</td>\n",
       "    </tr>\n",
       "    <tr>\n",
       "      <th>2</th>\n",
       "      <td>Celery, Raw</td>\n",
       "      <td>0.04</td>\n",
       "      <td>1 Stalk</td>\n",
       "      <td>6.4</td>\n",
       "      <td>0.0</td>\n",
       "      <td>0.1</td>\n",
       "      <td>34.8</td>\n",
       "      <td>1.5</td>\n",
       "      <td>0.7</td>\n",
       "      <td>0.3</td>\n",
       "      <td>53.6</td>\n",
       "      <td>2.8</td>\n",
       "      <td>16.0</td>\n",
       "      <td>0.2</td>\n",
       "    </tr>\n",
       "    <tr>\n",
       "      <th>3</th>\n",
       "      <td>Frozen Corn</td>\n",
       "      <td>0.18</td>\n",
       "      <td>1/2 Cup</td>\n",
       "      <td>72.2</td>\n",
       "      <td>0.0</td>\n",
       "      <td>0.6</td>\n",
       "      <td>2.5</td>\n",
       "      <td>17.1</td>\n",
       "      <td>2.0</td>\n",
       "      <td>2.5</td>\n",
       "      <td>106.6</td>\n",
       "      <td>5.2</td>\n",
       "      <td>3.3</td>\n",
       "      <td>0.3</td>\n",
       "    </tr>\n",
       "    <tr>\n",
       "      <th>4</th>\n",
       "      <td>Lettuce,Iceberg,Raw</td>\n",
       "      <td>0.02</td>\n",
       "      <td>1 Leaf</td>\n",
       "      <td>2.6</td>\n",
       "      <td>0.0</td>\n",
       "      <td>0.0</td>\n",
       "      <td>1.8</td>\n",
       "      <td>0.4</td>\n",
       "      <td>0.3</td>\n",
       "      <td>0.2</td>\n",
       "      <td>66.0</td>\n",
       "      <td>0.8</td>\n",
       "      <td>3.8</td>\n",
       "      <td>0.1</td>\n",
       "    </tr>\n",
       "  </tbody>\n",
       "</table>\n",
       "</div>"
      ],
      "text/plain": [
       "                 Foods  Price/ Serving      Serving Size  Calories  \\\n",
       "0      Frozen Broccoli            0.16         10 Oz Pkg      73.8   \n",
       "1          Carrots,Raw            0.07  1/2 Cup Shredded      23.7   \n",
       "2          Celery, Raw            0.04           1 Stalk       6.4   \n",
       "3          Frozen Corn            0.18           1/2 Cup      72.2   \n",
       "4  Lettuce,Iceberg,Raw            0.02            1 Leaf       2.6   \n",
       "\n",
       "   Cholesterol mg  Total_Fat g  Sodium mg  Carbohydrates g  Dietary_Fiber g  \\\n",
       "0             0.0          0.8       68.2             13.6              8.5   \n",
       "1             0.0          0.1       19.2              5.6              1.6   \n",
       "2             0.0          0.1       34.8              1.5              0.7   \n",
       "3             0.0          0.6        2.5             17.1              2.0   \n",
       "4             0.0          0.0        1.8              0.4              0.3   \n",
       "\n",
       "   Protein g  Vit_A IU  Vit_C IU  Calcium mg  Iron mg  \n",
       "0        8.0    5867.4     160.2       159.0      2.3  \n",
       "1        0.6   15471.0       5.1        14.9      0.3  \n",
       "2        0.3      53.6       2.8        16.0      0.2  \n",
       "3        2.5     106.6       5.2         3.3      0.3  \n",
       "4        0.2      66.0       0.8         3.8      0.1  "
      ]
     },
     "execution_count": 61,
     "metadata": {},
     "output_type": "execute_result"
    }
   ],
   "source": [
    "df = pd.read_excel('E:\\\\georgiatech\\\\assignment\\\\HW11\\\\data\\\\diet.xls')\n",
    "# lets look at the data\n",
    "df.head()"
   ]
  },
  {
   "cell_type": "code",
   "execution_count": 62,
   "metadata": {
    "collapsed": true
   },
   "outputs": [],
   "source": [
    "# ------------ rows 0:64 (Excel calls them 1-65) is the food data table lets extract them into a different dataframe."
   ]
  },
  {
   "cell_type": "code",
   "execution_count": 63,
   "metadata": {
    "collapsed": true
   },
   "outputs": [],
   "source": [
    "diet = df[0:64]"
   ]
  },
  {
   "cell_type": "code",
   "execution_count": 64,
   "metadata": {
    "collapsed": true
   },
   "outputs": [],
   "source": [
    "# ------------ Extract the bottom constraints"
   ]
  },
  {
   "cell_type": "code",
   "execution_count": 65,
   "metadata": {
    "collapsed": true
   },
   "outputs": [],
   "source": [
    "diet_constraints = pd.read_excel('E:\\\\georgiatech\\\\assignment\\\\HW11\\\\data\\\\diet.xls', skiprows=66, header=None).iloc[:,2:]\n",
    "diet_constraints.columns = df.columns[2:]"
   ]
  },
  {
   "cell_type": "code",
   "execution_count": 66,
   "metadata": {
    "collapsed": true
   },
   "outputs": [],
   "source": [
    "# ------------display Constraints------------ "
   ]
  },
  {
   "cell_type": "code",
   "execution_count": 67,
   "metadata": {},
   "outputs": [
    {
     "data": {
      "text/html": [
       "<div>\n",
       "<style>\n",
       "    .dataframe thead tr:only-child th {\n",
       "        text-align: right;\n",
       "    }\n",
       "\n",
       "    .dataframe thead th {\n",
       "        text-align: left;\n",
       "    }\n",
       "\n",
       "    .dataframe tbody tr th {\n",
       "        vertical-align: top;\n",
       "    }\n",
       "</style>\n",
       "<table border=\"1\" class=\"dataframe\">\n",
       "  <thead>\n",
       "    <tr style=\"text-align: right;\">\n",
       "      <th></th>\n",
       "      <th>Serving Size</th>\n",
       "      <th>Calories</th>\n",
       "      <th>Cholesterol mg</th>\n",
       "      <th>Total_Fat g</th>\n",
       "      <th>Sodium mg</th>\n",
       "      <th>Carbohydrates g</th>\n",
       "      <th>Dietary_Fiber g</th>\n",
       "      <th>Protein g</th>\n",
       "      <th>Vit_A IU</th>\n",
       "      <th>Vit_C IU</th>\n",
       "      <th>Calcium mg</th>\n",
       "      <th>Iron mg</th>\n",
       "    </tr>\n",
       "  </thead>\n",
       "  <tbody>\n",
       "    <tr>\n",
       "      <th>0</th>\n",
       "      <td>Minimum daily intake</td>\n",
       "      <td>1500</td>\n",
       "      <td>30</td>\n",
       "      <td>20</td>\n",
       "      <td>800</td>\n",
       "      <td>130</td>\n",
       "      <td>125</td>\n",
       "      <td>60</td>\n",
       "      <td>1000</td>\n",
       "      <td>400</td>\n",
       "      <td>700</td>\n",
       "      <td>10</td>\n",
       "    </tr>\n",
       "    <tr>\n",
       "      <th>1</th>\n",
       "      <td>Maximum daily intake</td>\n",
       "      <td>2500</td>\n",
       "      <td>240</td>\n",
       "      <td>70</td>\n",
       "      <td>2000</td>\n",
       "      <td>450</td>\n",
       "      <td>250</td>\n",
       "      <td>100</td>\n",
       "      <td>10000</td>\n",
       "      <td>5000</td>\n",
       "      <td>1500</td>\n",
       "      <td>40</td>\n",
       "    </tr>\n",
       "  </tbody>\n",
       "</table>\n",
       "</div>"
      ],
      "text/plain": [
       "           Serving Size  Calories  Cholesterol mg  Total_Fat g  Sodium mg  \\\n",
       "0  Minimum daily intake      1500              30           20        800   \n",
       "1  Maximum daily intake      2500             240           70       2000   \n",
       "\n",
       "   Carbohydrates g  Dietary_Fiber g  Protein g  Vit_A IU  Vit_C IU  \\\n",
       "0              130              125         60      1000       400   \n",
       "1              450              250        100     10000      5000   \n",
       "\n",
       "   Calcium mg  Iron mg  \n",
       "0         700       10  \n",
       "1        1500       40  "
      ]
     },
     "execution_count": 67,
     "metadata": {},
     "output_type": "execute_result"
    }
   ],
   "source": [
    "diet_constraints"
   ]
  },
  {
   "cell_type": "code",
   "execution_count": 68,
   "metadata": {
    "collapsed": true
   },
   "outputs": [],
   "source": [
    "# ------------  create list for mins and maxes (all foods) to find the cheapest diet that satisfies the maximum and minimum daily nutrition constraints"
   ]
  },
  {
   "cell_type": "code",
   "execution_count": 69,
   "metadata": {
    "collapsed": true
   },
   "outputs": [],
   "source": [
    "amin = [1500, 30, 20, 800, 130, 125, 60, 1000, 400, 700, 10]\n",
    "amax = [2500, 240, 70, 2000, 450, 250, 100, 10000, 5000, 1500, 40]"
   ]
  },
  {
   "cell_type": "code",
   "execution_count": 70,
   "metadata": {
    "collapsed": true
   },
   "outputs": [],
   "source": [
    "data = diet.values.tolist()"
   ]
  },
  {
   "cell_type": "code",
   "execution_count": 71,
   "metadata": {
    "collapsed": true
   },
   "outputs": [],
   "source": [
    "# ------------ create master foods dictionary"
   ]
  },
  {
   "cell_type": "code",
   "execution_count": 72,
   "metadata": {
    "collapsed": true
   },
   "outputs": [],
   "source": [
    "foods = [x[0] for x in data]"
   ]
  },
  {
   "cell_type": "code",
   "execution_count": 73,
   "metadata": {
    "collapsed": true
   },
   "outputs": [],
   "source": [
    "#-------------------- append collection of contraints for each column "
   ]
  },
  {
   "cell_type": "code",
   "execution_count": 74,
   "metadata": {
    "collapsed": true
   },
   "outputs": [],
   "source": [
    "cals = []\n",
    "for j in range(0,11):\n",
    "    cals.append(dict([(x[0], float(x[j+3])) for x in data]))    "
   ]
  },
  {
   "cell_type": "code",
   "execution_count": 75,
   "metadata": {
    "collapsed": true
   },
   "outputs": [],
   "source": [
    "#--------------------  define the cost dictionary"
   ]
  },
  {
   "cell_type": "code",
   "execution_count": 76,
   "metadata": {
    "collapsed": true
   },
   "outputs": [],
   "source": [
    "# define the cost dictionary\n",
    "cost = dict([(x[0], float(x[1])) for x in data])"
   ]
  },
  {
   "cell_type": "code",
   "execution_count": 77,
   "metadata": {
    "collapsed": true
   },
   "outputs": [],
   "source": [
    "# ------------ Create a new LP Problem ------------ \n",
    "#\n",
    "# This problem is a minimization problem (find the *lowest* cost), so \"LpMinimize\" is the second parameter."
   ]
  },
  {
   "cell_type": "code",
   "execution_count": 78,
   "metadata": {
    "collapsed": true
   },
   "outputs": [],
   "source": [
    "problem1 = LpProblem('PuLPTutorial', LpMinimize)"
   ]
  },
  {
   "cell_type": "code",
   "execution_count": 79,
   "metadata": {
    "collapsed": true
   },
   "outputs": [],
   "source": [
    "# ------------ define the variables - continous"
   ]
  },
  {
   "cell_type": "code",
   "execution_count": 80,
   "metadata": {
    "collapsed": true
   },
   "outputs": [],
   "source": [
    "foodVars = LpVariable.dicts(\"foods\", foods,0)"
   ]
  },
  {
   "cell_type": "code",
   "execution_count": 81,
   "metadata": {
    "collapsed": true
   },
   "outputs": [],
   "source": [
    "# ------------ define the variables - binary"
   ]
  },
  {
   "cell_type": "code",
   "execution_count": 82,
   "metadata": {
    "collapsed": true
   },
   "outputs": [],
   "source": [
    "chosenVars = LpVariable.dicts(\"Chosen\",foods,0,1,\"Binary\")"
   ]
  },
  {
   "cell_type": "code",
   "execution_count": 83,
   "metadata": {
    "collapsed": true
   },
   "outputs": [],
   "source": [
    "# ------------  dictionary of lp variables "
   ]
  },
  {
   "cell_type": "code",
   "execution_count": 84,
   "metadata": {
    "collapsed": true
   },
   "outputs": [],
   "source": [
    "x = LpVariable.dicts(\"x\", foods, 0)"
   ]
  },
  {
   "cell_type": "code",
   "execution_count": 85,
   "metadata": {
    "collapsed": true
   },
   "outputs": [],
   "source": [
    "# ------------ define the OBJECTIVE function  ------------"
   ]
  },
  {
   "cell_type": "code",
   "execution_count": 86,
   "metadata": {
    "collapsed": true
   },
   "outputs": [],
   "source": [
    "problem1 += lpSum([cost[f] * foodVars[f] for f in foods])"
   ]
  },
  {
   "cell_type": "code",
   "execution_count": 87,
   "metadata": {
    "collapsed": true
   },
   "outputs": [],
   "source": [
    "# ------------  add CONSTRAINTS for all foods  ------------"
   ]
  },
  {
   "cell_type": "code",
   "execution_count": 88,
   "metadata": {
    "collapsed": true
   },
   "outputs": [],
   "source": [
    "# add constraints for all foods\n",
    "for i in range(0,11):\n",
    "    dot_B_x = pulp.lpSum([cals[i][j] * foodVars[j] for j in foods])\n",
    "    condition1 = amin[i] <= + dot_B_x\n",
    "    problem1 += condition1\n",
    "    \n",
    "for i in range(0,11):\n",
    "    dot_B_x = pulp.lpSum([cals[i][j] * foodVars[j] for j in foods])\n",
    "    condition2 = amax[i] >= + dot_B_x\n",
    "    problem1 += condition2"
   ]
  },
  {
   "cell_type": "code",
   "execution_count": 89,
   "metadata": {
    "collapsed": true
   },
   "outputs": [],
   "source": [
    "# ------------  SOLVE  for optimal solution  ------------"
   ]
  },
  {
   "cell_type": "code",
   "execution_count": 90,
   "metadata": {},
   "outputs": [
    {
     "data": {
      "text/plain": [
       "1"
      ]
     },
     "execution_count": 90,
     "metadata": {},
     "output_type": "execute_result"
    }
   ],
   "source": [
    "problem1.solve()"
   ]
  },
  {
   "cell_type": "code",
   "execution_count": 91,
   "metadata": {
    "collapsed": true
   },
   "outputs": [],
   "source": [
    "# ------------  Status of the solution is Optimal ------------"
   ]
  },
  {
   "cell_type": "code",
   "execution_count": 92,
   "metadata": {},
   "outputs": [
    {
     "data": {
      "text/plain": [
       "'Optimal'"
      ]
     },
     "execution_count": 92,
     "metadata": {},
     "output_type": "execute_result"
    }
   ],
   "source": [
    "LpStatus[problem1.status]"
   ]
  },
  {
   "cell_type": "code",
   "execution_count": 93,
   "metadata": {
    "collapsed": true
   },
   "outputs": [],
   "source": [
    "# ------------  output solution to console values of the variable to the console ----------------"
   ]
  },
  {
   "cell_type": "code",
   "execution_count": 94,
   "metadata": {},
   "outputs": [
    {
     "name": "stdout",
     "output_type": "stream",
     "text": [
      "[foods_2%_Lowfat_Milk, foods_3.3%_Fat,Whole_Milk, foods_Apple,Raw,W_Skin, foods_Apple_Pie, foods_Bagels, foods_Banana, foods_Beanbacn_Soup,W_Watr, foods_Bologna,Turkey, foods_Butter,Regular, foods_Cap'N_Crunch, foods_Carrots,Raw, foods_Celery,_Raw, foods_Cheddar_Cheese, foods_Cheerios, foods_Chicknoodl_Soup, foods_Chocolate_Chip_Cookies, foods_Corn_Flks,_Kellogg'S, foods_Couscous, foods_Crm_Mshrm_Soup,W_Mlk, foods_Frankfurter,_Beef, foods_Frozen_Broccoli, foods_Frozen_Corn, foods_Grapes, foods_Ham,Sliced,Extralean, foods_Hamburger_W_Toppings, foods_Hotdog,_Plain, foods_Kielbasa,Prk, foods_Kiwifruit,Raw,Fresh, foods_Lettuce,Iceberg,Raw, foods_Macaroni,Ckd, foods_Malt_O_Meal,Choc, foods_New_E_Clamchwd,W_Mlk, foods_Neweng_Clamchwd, foods_Oatmeal, foods_Oatmeal_Cookies, foods_Oranges, foods_Peanut_Butter, foods_Peppers,_Sweet,_Raw, foods_Pizza_W_Pepperoni, foods_Poached_Eggs, foods_Popcorn,Air_Popped, foods_Pork, foods_Potato_Chips,Bbqflvr, foods_Potatoes,_Baked, foods_Pretzels, foods_Raisin_Brn,_Kellg'S, foods_Rice_Krispies, foods_Roasted_Chicken, foods_Sardines_in_Oil, foods_Scrambled_Eggs, foods_Skim_Milk, foods_Spaghetti_W__Sauce, foods_Special_K, foods_Splt_Pea&Hamsoup, foods_Taco, foods_Tofu, foods_Tomato,Red,Ripe,Raw, foods_Tomato_Soup, foods_Tortilla_Chip, foods_Vegetbeef_Soup, foods_Wheat_Bread, foods_White_Bread, foods_White_Rice, foods_White_Tuna_in_Water]\n"
     ]
    }
   ],
   "source": [
    "print(problem1.variables())"
   ]
  },
  {
   "cell_type": "code",
   "execution_count": 95,
   "metadata": {
    "collapsed": true
   },
   "outputs": [],
   "source": [
    "# ------------   print the foods of the optimal diet and units ----------------"
   ]
  },
  {
   "cell_type": "code",
   "execution_count": 96,
   "metadata": {},
   "outputs": [
    {
     "name": "stdout",
     "output_type": "stream",
     "text": [
      "Optimization Solution:\n",
      "------------------------------\n",
      "52.64371  units of  foods_Celery,_Raw\n",
      "0.25960653  units of  foods_Frozen_Broccoli\n",
      "63.988506  units of  foods_Lettuce,Iceberg,Raw\n",
      "2.2929389  units of  foods_Oranges\n",
      "0.14184397  units of  foods_Poached_Eggs\n",
      "13.869322  units of  foods_Popcorn,Air_Popped\n"
     ]
    }
   ],
   "source": [
    "print('Optimization Solution:')\n",
    "print('------------------------------')\n",
    "for var in problem1.variables():\n",
    "    if var.varValue > 0:\n",
    "        if str(var).find('Chosen'):\n",
    "            print(str(var.varValue) + \"  units of  \" + str(var))\n",
    "            "
   ]
  },
  {
   "cell_type": "code",
   "execution_count": 97,
   "metadata": {
    "collapsed": true
   },
   "outputs": [],
   "source": [
    "# ------------   print the COST of the Optimal Diet  ----------------       "
   ]
  },
  {
   "cell_type": "code",
   "execution_count": 98,
   "metadata": {},
   "outputs": [
    {
     "name": "stdout",
     "output_type": "stream",
     "text": [
      "Total cost of food = $4.34\n"
     ]
    }
   ],
   "source": [
    "print(\"Total cost of food = $%.2f\" % value(problem1.objective))"
   ]
  },
  {
   "cell_type": "markdown",
   "metadata": {},
   "source": [
    "**The cheapest diet that satisfies the maximum and minimum daily nutrition constraints will cost $4.34**"
   ]
  },
  {
   "cell_type": "markdown",
   "metadata": {},
   "source": [
    "## Part 2"
   ]
  },
  {
   "cell_type": "markdown",
   "metadata": {
    "collapsed": true
   },
   "source": [
    "\t\n",
    "Please add to your model the following constraints (which might require adding more variables) and solve the new model:\n",
    "      \n",
    "      a.\tIf a food is selected, then a minimum of 1/10 serving must be chosen. (Hint: now you will need two variables for each food i: whether it is chosen, and   how much is part of the diet. You’ll also need to write a constraint to link them.)\n",
    "      \n",
    "      b.\tMany people dislike celery and frozen broccoli. So at most one, but not both, can be selected.\n",
    "      \n",
    "      c.\tTo get day-to-day variety in protein, at least 3 kinds of meat/poultry/fish/eggs must be selected. [If something is ambiguous (e.g., should bean-and-bacon soup be considered meat?), just call it whatever you think is appropriate – I want you to learn how to write this type of constraint, but I don’t really care whether we agree on how to classify foods!]\n"
   ]
  },
  {
   "cell_type": "code",
   "execution_count": 99,
   "metadata": {
    "collapsed": true
   },
   "outputs": [],
   "source": [
    "#----------- add contraints (a) amount greater than .1 or less than large amount - if chosen"
   ]
  },
  {
   "cell_type": "code",
   "execution_count": 100,
   "metadata": {
    "collapsed": true
   },
   "outputs": [],
   "source": [
    "for f in foods:\n",
    "    problem1 += foodVars[f] <= 10000 * chosenVars[f]\n",
    "    problem1 += foodVars[f] >= .1 * chosenVars[f]"
   ]
  },
  {
   "cell_type": "code",
   "execution_count": 101,
   "metadata": {
    "collapsed": true
   },
   "outputs": [],
   "source": [
    "#----------- add contraints (b) to eat at most one of a group of foods    "
   ]
  },
  {
   "cell_type": "code",
   "execution_count": 102,
   "metadata": {
    "collapsed": true
   },
   "outputs": [],
   "source": [
    "problem1 += chosenVars['Frozen Broccoli'] + chosenVars['Celery, Raw'] <= 1, 'At most one Broccoli / Celery'"
   ]
  },
  {
   "cell_type": "code",
   "execution_count": 103,
   "metadata": {
    "collapsed": true
   },
   "outputs": [],
   "source": [
    "# ------------ make a list of proteins"
   ]
  },
  {
   "cell_type": "code",
   "execution_count": 104,
   "metadata": {
    "collapsed": true
   },
   "outputs": [],
   "source": [
    "proteinList = [\n",
    "       'Bologna,Turkey', 'Frankfurter, Beef','Ham,Sliced,Extralean',\n",
    "       'Hamburger W/Toppings', 'Hotdog, Plain', 'Kielbasa,Prk',\n",
    "       'Pizza W/Pepperoni', 'Poached Eggs',\n",
    "       'Pork', 'Roasted Chicken', 'Sardines in Oil',\n",
    "       'Scrambled Eggs',\n",
    "       'Splt Pea&Hamsoup', 'Vegetbeef Soup',\n",
    "       'White Tuna in Water']"
   ]
  },
  {
   "cell_type": "code",
   "execution_count": 105,
   "metadata": {
    "collapsed": true
   },
   "outputs": [],
   "source": [
    "#-----------  add contraint (c) at least 3 kinds of meat/poultry/fish/eggs must be selected. "
   ]
  },
  {
   "cell_type": "code",
   "execution_count": 106,
   "metadata": {
    "collapsed": true
   },
   "outputs": [],
   "source": [
    "# Build constraints of at least 3\n",
    "problem1 += lpSum([chosenVars[p] for p in proteinList]) >= 3"
   ]
  },
  {
   "cell_type": "code",
   "execution_count": 107,
   "metadata": {
    "collapsed": true
   },
   "outputs": [],
   "source": [
    "# ------------  SOLVE  for optimal solution  ------------"
   ]
  },
  {
   "cell_type": "code",
   "execution_count": 108,
   "metadata": {},
   "outputs": [
    {
     "data": {
      "text/plain": [
       "1"
      ]
     },
     "execution_count": 108,
     "metadata": {},
     "output_type": "execute_result"
    }
   ],
   "source": [
    "problem1.solve()"
   ]
  },
  {
   "cell_type": "code",
   "execution_count": 109,
   "metadata": {
    "collapsed": true
   },
   "outputs": [],
   "source": [
    "# ------------  Status of the solution is Optimal ------------"
   ]
  },
  {
   "cell_type": "code",
   "execution_count": 110,
   "metadata": {},
   "outputs": [
    {
     "data": {
      "text/plain": [
       "'Optimal'"
      ]
     },
     "execution_count": 110,
     "metadata": {},
     "output_type": "execute_result"
    }
   ],
   "source": [
    "LpStatus[problem1.status]"
   ]
  },
  {
   "cell_type": "code",
   "execution_count": 111,
   "metadata": {
    "collapsed": true
   },
   "outputs": [],
   "source": [
    "# ------------   print the foods of the optimal diet and units ----------------"
   ]
  },
  {
   "cell_type": "code",
   "execution_count": 112,
   "metadata": {},
   "outputs": [
    {
     "name": "stdout",
     "output_type": "stream",
     "text": [
      "Optimization Solution:\n",
      "------------------------------\n",
      "42.399358 units of foods_Celery,_Raw\n",
      "0.1 units of foods_Kielbasa,Prk\n",
      "82.802586 units of foods_Lettuce,Iceberg,Raw\n",
      "3.0771841 units of foods_Oranges\n",
      "1.9429716 units of foods_Peanut_Butter\n",
      "0.1 units of foods_Poached_Eggs\n",
      "13.223294 units of foods_Popcorn,Air_Popped\n",
      "0.1 units of foods_Scrambled_Eggs\n"
     ]
    }
   ],
   "source": [
    "print('Optimization Solution:')\n",
    "print('------------------------------')\n",
    "\n",
    "for var in problem1.variables():\n",
    "    if var.varValue > 0:\n",
    "        if str(var).find('Chosen'):\n",
    "            print(str(var.varValue) + \" units of \" + str(var))\n",
    "            "
   ]
  },
  {
   "cell_type": "markdown",
   "metadata": {},
   "source": [
    "**Notice that 3 protien foods Kielbasa,Prk; Poached_Eggs and Scrambled_Eggs were added**"
   ]
  },
  {
   "cell_type": "markdown",
   "metadata": {},
   "source": [
    "**Also notice that Celery,_Raw at most one of the required group was also added**"
   ]
  },
  {
   "cell_type": "code",
   "execution_count": 113,
   "metadata": {
    "collapsed": true
   },
   "outputs": [],
   "source": [
    "# ------------   print the COST of the Optimal Diet  ----------------       "
   ]
  },
  {
   "cell_type": "code",
   "execution_count": 114,
   "metadata": {},
   "outputs": [
    {
     "name": "stdout",
     "output_type": "stream",
     "text": [
      "Total cost of food = $4.51\n"
     ]
    }
   ],
   "source": [
    "print(\"Total cost of food = $%.2f\" % value(problem1.objective))"
   ]
  },
  {
   "cell_type": "markdown",
   "metadata": {
    "collapsed": true
   },
   "source": [
    "**The cheapest diet that satisfies the minimum of 1/10 serving, one of the dislike (Celery) and 3 proteins as constraints will cost $4.51**"
   ]
  }
 ],
 "metadata": {
  "kernelspec": {
   "display_name": "Python 3",
   "language": "python",
   "name": "python3"
  },
  "language_info": {
   "codemirror_mode": {
    "name": "ipython",
    "version": 3
   },
   "file_extension": ".py",
   "mimetype": "text/x-python",
   "name": "python",
   "nbconvert_exporter": "python",
   "pygments_lexer": "ipython3",
   "version": "3.6.5"
  }
 },
 "nbformat": 4,
 "nbformat_minor": 2
}
